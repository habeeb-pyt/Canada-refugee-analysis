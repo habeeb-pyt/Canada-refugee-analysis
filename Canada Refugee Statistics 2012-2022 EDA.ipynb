{
 "cells": [
  {
   "cell_type": "markdown",
   "id": "8646cf1b",
   "metadata": {},
   "source": [
    "# Canada Refugee Statistics Exploratory Data Analysis"
   ]
  },
  {
   "cell_type": "markdown",
   "id": "9e56a49e",
   "metadata": {},
   "source": [
    "In this project we perform Exploratory Data Analysis **(EDA)** on **UNHCR Refugee Statistics** for **Canada** from **2012-2022.**\n",
    "\n",
    "\n",
    "_Original dataset can be downloaded from the [unhcr.org](https://www.unhcr.org/refugee-statistics/download/?url=8tIY7I) website._"
   ]
  },
  {
   "cell_type": "markdown",
   "id": "3a9334d3",
   "metadata": {},
   "source": [
    "## Analysis Questions\n",
    "\n",
    "1. From which countries has Canada admitted the highest number of refugees?\n",
    "2. What are the total number of resettled refugees in Canada per year?\n",
    "3. What are the countries of origin for the majority of asylum claims made in Canada?\n",
    "4. What is the total number of asylum claims made in Canada every year?\n",
    "5. What are the general trends in refugee and asylum statistics from 2012-2022?"
   ]
  },
  {
   "cell_type": "markdown",
   "id": "63f47aec",
   "metadata": {},
   "source": [
    "## Important Distinction: Refugees vs. Asylum Seekers\n",
    "\n",
    "**The 1951 Refugee Convention defines a refugee as:** “A person who, owing to a well-founded fear of being persecuted for reasons of race, religion, nationality, membership of a particular social group or political opinion, is outside the country of his nationality and is unable or, owing to such fear, unwilling to avail himself of the protection of that country”.\n",
    "> - In this data set, UNHCR-Refugees refers to people who have been resettled to Canada, and arrive to the country as permanent residents.\n",
    "    \n",
    "**An asylum seeker (or claimant) on the other hand is defined as** someone who is seeking international protection but has not yet been granted refugee status. \n",
    "> - In this data set, asylum-seeker refers to someone who has arrived in Canada as a visitor, worker, student, etc., through official or unofficial ports of entry, and who applied for protection from within Canada (after arrival). \n",
    "\n",
    "_For more information and definitions, visit the [unhcr.ca](https://www.unhcr.ca/about-us/frequently-asked-questions/#:~:text=An%20asylum%2Dseeker%20is%20someone,yet%20been%20granted%20refugee%20status.) website._"
   ]
  },
  {
   "cell_type": "markdown",
   "id": "6d9ae2d3",
   "metadata": {},
   "source": [
    "## Notebook Content\n",
    "\n",
    "1. **Step 1:** Install + Import Necessary Libraries\n",
    "2. **Step 2:** Reading, Exploring and Preparing Data\n",
    "3. **Step 3:** Exploratory Data Analysis + Visualization\n",
    "4. **2012- 2022 Canada Refugee Statistics EDA Results Summary**"
   ]
  },
  {
   "cell_type": "code",
   "execution_count": null,
   "id": "ddb29186",
   "metadata": {},
   "outputs": [],
   "source": []
  }
 ],
 "metadata": {
  "kernelspec": {
   "display_name": "Python 3 (ipykernel)",
   "language": "python",
   "name": "python3"
  },
  "language_info": {
   "codemirror_mode": {
    "name": "ipython",
    "version": 3
   },
   "file_extension": ".py",
   "mimetype": "text/x-python",
   "name": "python",
   "nbconvert_exporter": "python",
   "pygments_lexer": "ipython3",
   "version": "3.10.9"
  }
 },
 "nbformat": 4,
 "nbformat_minor": 5
}
